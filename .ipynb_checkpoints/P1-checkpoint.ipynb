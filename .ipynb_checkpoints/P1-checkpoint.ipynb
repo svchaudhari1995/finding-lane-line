{
 "cells": [
  {
   "cell_type": "markdown",
   "metadata": {},
   "source": [
    "# Self-Driving Car Engineer Nanodegree\n",
    "\n",
    "\n",
    "## Project: **Finding Lane Lines on the Road** \n",
    "***\n",
    "In this project we apply methods like region masking, canny detection and Hough transform to detect lanes in an image as well as video. A camera is mounted on top of the car. It is used to capture images. Then this image is processed to detect lane line on the road. The lane lines can have different widths and colour. Some of them maybe bright and some may be dull in colour. So self-driving car should check all this conditions and accordingly travel on the correct path.\n",
    "\n",
    "\n",
    "---"
   ]
  },
  {
   "cell_type": "markdown",
   "metadata": {},
   "source": [
    "## Import Packages"
   ]
  },
  {
   "cell_type": "code",
   "execution_count": null,
   "metadata": {},
   "outputs": [],
   "source": [
    "#importing some useful packages\n",
    "import matplotlib.pyplot as plt\n",
    "import matplotlib.image as mpimg\n",
    "import numpy as np\n",
    "import cv2\n",
    "%matplotlib inline"
   ]
  },
  {
   "cell_type": "markdown",
   "metadata": {},
   "source": [
    "## Read in an Image"
   ]
  },
  {
   "cell_type": "code",
   "execution_count": null,
   "metadata": {},
   "outputs": [],
   "source": [
    "#reading in an image\n",
    "image = mpimg.imread('test_images/solidWhiteRight.jpg')\n",
    "\n",
    "#printing out some stats and plotting\n",
    "print('This image is:', type(image), 'with dimensions:', image.shape)\n",
    "plt.imshow(image)  # if you wanted to show a single color channel image called 'gray', for example, call as plt.imshow(gray, cmap='gray')"
   ]
  },
  {
   "cell_type": "markdown",
   "metadata": {},
   "source": [
    "## Ideas for Lane Detection Pipeline"
   ]
  },
  {
   "cell_type": "markdown",
   "metadata": {},
   "source": [
    "**Some OpenCV functions (beyond those introduced in the lesson) that are  be useful for this project are:**\n",
    "\n",
    "`cv2.inRange()` for color selection  \n",
    "`cv2.fillPoly()` for regions selection  \n",
    "`cv2.line()` to draw lines on an image given endpoints  \n",
    "`cv2.addWeighted()` to coadd / overlay two images\n",
    "`cv2.cvtColor()` to grayscale or change color\n",
    "`cv2.imwrite()` to output images to file  \n",
    "`cv2.bitwise_and()` to apply a mask to an image\n",
    "\n"
   ]
  },
  {
   "cell_type": "markdown",
   "metadata": {},
   "source": [
    "## Helper Functions"
   ]
  },
  {
   "cell_type": "code",
   "execution_count": null,
   "metadata": {},
   "outputs": [],
   "source": [
    "import math\n",
    "\n",
    "def grayscale(img):\n",
    "    \"\"\"Applies the Grayscale transform\n",
    "    This will return an image with only one color channel\n",
    "    but NOTE: to see the returned image as grayscale\n",
    "    (assuming your grayscaled image is called 'gray')\n",
    "    you should call plt.imshow(gray, cmap='gray')\"\"\"\n",
    "    return cv2.cvtColor(img, cv2.COLOR_RGB2GRAY)\n",
    "    # Or use BGR2GRAY if you read an image with cv2.imread()\n",
    "    # return cv2.cvtColor(img, cv2.COLOR_BGR2GRAY)\n",
    "    \n",
    "def canny(img, low_threshold, high_threshold):\n",
    "    \"\"\"Applies the Canny transform\"\"\"\n",
    "    return cv2.Canny(img, low_threshold, high_threshold)\n",
    "\n",
    "def gaussian_blur(img, kernel_size):\n",
    "    \"\"\"Applies a Gaussian Noise kernel\"\"\"\n",
    "    return cv2.GaussianBlur(img, (kernel_size, kernel_size), 0)\n",
    "\n",
    "def region_of_interest(img, vertices):\n",
    "    \"\"\"\n",
    "    Applies an image mask.\n",
    "    \n",
    "    Only keeps the region of the image defined by the polygon\n",
    "    formed from `vertices`. The rest of the image is set to black.\n",
    "    \"\"\"\n",
    "    #defining a blank mask to start with\n",
    "    mask = np.zeros_like(img)   \n",
    "    \n",
    "    #defining a 3 channel or 1 channel color to fill the mask with depending on the input image\n",
    "    if len(img.shape) > 2:\n",
    "        channel_count = img.shape[2]  # i.e. 3 or 4 depending on your image\n",
    "        ignore_mask_color = (255,) * channel_count\n",
    "    else:\n",
    "        ignore_mask_color = 255\n",
    "        \n",
    "    #filling pixels inside the polygon defined by \"vertices\" with the fill color    \n",
    "    cv2.fillPoly(mask, vertices, ignore_mask_color)\n",
    "    \n",
    "    #returning the image only where mask pixels are nonzero\n",
    "    masked_image = cv2.bitwise_and(img, mask)\n",
    "    return masked_image\n",
    "\n",
    "\n",
    "    \n",
    "def draw_lines(img, lines, vertices,color=[255, 0, 0], thickness=15):\n",
    "    \"\"\"\n",
    "    NOTE: this is the function you might want to use as a starting point once you want to \n",
    "    average/extrapolate the line segments you detect to map out the full\n",
    "    extent of the lane (going from the result shown in raw-lines-example.mp4\n",
    "    to that shown in P1_example.mp4).  \n",
    "    \n",
    "    Think about things like separating line segments by their \n",
    "    slope ((y2-y1)/(x2-x1)) to decide which segments are part of the left\n",
    "    line vs. the right line.  Then, you can average the position of each of \n",
    "    the lines and extrapolate to the top and bottom of the lane.\n",
    "    \n",
    "    This function draws `lines` with `color` and `thickness`.    \n",
    "    Lines are drawn on the image inplace (mutates the image).\n",
    "    If you want to make the lines semi-transparent, think about combining\n",
    "    this function with the weighted_img() function below\n",
    "    \"\"\"\n",
    "    right_lane=[]; #list for vertices on right lane\n",
    "    left_lane=[]; # #list for vertices on left lane\n",
    "    for line in lines:\n",
    "        for x1,y1,x2,y2 in line:\n",
    "            if(x2-x1==0): \n",
    "                continue;\n",
    "            else:\n",
    "                m = (y2-y1) / (x2-x1)  #calculating slope of detected lines\n",
    "            if abs(m) < 0.4:   #check for the line in yellowcurved video\n",
    "                continue\n",
    "            if(m>0):\n",
    "                right_lane.append((x1,y1))  #append vertices of lines in right lane\n",
    "                right_lane.append((x2,y2))  #append vertices of lines in right lane\n",
    "            if(m<0):\n",
    "                left_lane.append((x1,y1))   #append vertices of lines in left lane\n",
    "                left_lane.append((x2,y2))   #append vertices of lines in left lane   \n",
    "    \n",
    "    if(len(left_lane)>=2):\n",
    "        left_lane = np.array(left_lane)\n",
    "        x=left_lane[:,0]\n",
    "        y=left_lane[:,1]\n",
    "        m,c=np.polyfit(x,y,1)  #get average slope and contant of line\n",
    "\n",
    "        left_bottom_y=vertices[0][0][1]   #getting y cordinate of the bottom left region of interest\n",
    "        left_top_y=vertices[0][1][1]      #getting y cordinate of the top left region of interest\n",
    "        left_bottom_x=int((left_bottom_y-c)/m)  #calculating x cordinate of bottom left region\n",
    "        left_top_x=int((left_top_y-c)/m)    #calculating x cordinate of top left region\n",
    "        cv2.line(img, (left_top_x, left_top_y), (left_bottom_x, left_bottom_y), color, thickness)  #draws line \n",
    "    \n",
    "    if(len(right_lane)>=2):\n",
    "        right_lane = np.array(right_lane)\n",
    "        x=right_lane[:,0]\n",
    "        #print(x)\n",
    "        y=right_lane[:,1]\n",
    "        m,c=np.polyfit(x,y,1)  #get average slope and contant of line\n",
    "\n",
    "        right_top_y =vertices[0][3][1] #getting y cordinate of the top right region of interest\n",
    "        right_bottom_y=vertices[0][2][1]  #getting y cordinate of the bottom right region of interest\n",
    "        right_bottom_x=int((right_bottom_y-c)/m)  #calculating x cordinate of bottom right region\n",
    "        right_top_x=int((right_top_y-c)/m)   #calculating x cordinate of top right region\n",
    "        cv2.line(img, (right_top_x, right_top_y), (right_bottom_x, right_bottom_y), color, thickness) #draws line \n",
    "\n",
    "\n",
    "def hough_lines(img, rho, theta, threshold, min_line_len, max_line_gap):\n",
    "    \"\"\"\n",
    "    `img` should be the output of a Canny transform.\n",
    "        \n",
    "    Returns an image with hough lines drawn.\n",
    "    \"\"\"\n",
    "    lines = cv2.HoughLinesP(img, rho, theta, threshold, np.array([]), minLineLength=min_line_len, maxLineGap=max_line_gap)\n",
    "    line_img = np.zeros((img.shape[0], img.shape[1], 3), dtype=np.uint8)\n",
    "    draw_lines(line_img, lines)\n",
    "    return line_img\n",
    "\n",
    "# Python 3 has support for cool math symbols.\n",
    "\n",
    "def weighted_img(img, initial_img, α=0.8, β=1., γ=0.):\n",
    "    \"\"\"\n",
    "    `img` is the output of the hough_lines(), An image with lines drawn on it.\n",
    "    Should be a blank image (all black) with lines drawn on it.\n",
    "    \n",
    "    `initial_img` should be the image before any processing.\n",
    "    \n",
    "    The result image is computed as follows:\n",
    "    \n",
    "    initial_img * α + img * β + γ\n",
    "    NOTE: initial_img and img must be the same shape!\n",
    "    \"\"\"\n",
    "    return cv2.addWeighted(initial_img, α, img, β, γ)"
   ]
  },
  {
   "cell_type": "markdown",
   "metadata": {},
   "source": [
    "## Test Images\n",
    "\n"
   ]
  },
  {
   "cell_type": "code",
   "execution_count": null,
   "metadata": {},
   "outputs": [],
   "source": [
    "import os\n",
    "test_images=os.listdir(\"test_images/\")\n",
    "print(test_images)"
   ]
  },
  {
   "cell_type": "code",
   "execution_count": null,
   "metadata": {},
   "outputs": [],
   "source": [
    "f, ax = plt.subplots(3,2,figsize=(24, 24))\n",
    "ax[0,0].imshow(mpimg.imread(\"test_images/\"+test_images[0]))\n",
    "ax[0,1].imshow(mpimg.imread(\"test_images/\"+test_images[1]))\n",
    "ax[1,0].imshow(mpimg.imread(\"test_images/\"+test_images[2]))\n",
    "ax[1,1].imshow(mpimg.imread(\"test_images/\"+test_images[3]))\n",
    "ax[2,0].imshow(mpimg.imread(\"test_images/\"+test_images[4]))\n",
    "ax[2,1].imshow(mpimg.imread(\"test_images/\"+test_images[5]))"
   ]
  },
  {
   "cell_type": "markdown",
   "metadata": {},
   "source": [
    "## Setting parameters"
   ]
  },
  {
   "cell_type": "code",
   "execution_count": null,
   "metadata": {},
   "outputs": [],
   "source": [
    "\n",
    "image=mpimg.imread(\"test_images/\"+test_images[0])\n",
    "y = image.shape[0]\n",
    "x = image.shape[1]\n",
    "vertices = np.array([[(0, y), (x*0.4, y*0.6), (x*0.6, y*0.6), (x, y)]], np.int32)\n",
    "low_threshold=50       #parameters for canny detection \n",
    "high_threshold=150     #parameters for canny detection\n",
    "kernel_size=7         #kernel size for Gaussian smoothing / blurring\n",
    "rho = 1 # distance resolution in pixels  from origin in hough space\n",
    "theta = np.pi/180 # angular resolution in radians of the Hough space wrt origin\n",
    "threshold = 40     # minimum number of votes \n",
    "min_line_length = 100 #minimum number of pixels to make a line\n",
    "max_line_gap = 300   # maximum gap in pixels between lines that can be connected \n"
   ]
  },
  {
   "cell_type": "markdown",
   "metadata": {},
   "source": [
    "## Convert to gray scale image"
   ]
  },
  {
   "cell_type": "code",
   "execution_count": null,
   "metadata": {},
   "outputs": [],
   "source": [
    "gray_image=grayscale(image)   #conversion to grayscale image\n",
    "plt.imshow(gray_image,cmap='gray') "
   ]
  },
  {
   "cell_type": "markdown",
   "metadata": {},
   "source": [
    "## Remove some noise using guassian blur"
   ]
  },
  {
   "cell_type": "code",
   "execution_count": null,
   "metadata": {},
   "outputs": [],
   "source": [
    "\n",
    "blur_image=gaussian_blur(gray_image,kernel_size)   # gaussian_blur suppress noise and spurious gradients by averaging \n",
    "plt.imshow(blur_image,cmap='gray') "
   ]
  },
  {
   "cell_type": "markdown",
   "metadata": {},
   "source": [
    "## Detect edges"
   ]
  },
  {
   "cell_type": "code",
   "execution_count": null,
   "metadata": {},
   "outputs": [],
   "source": [
    "edges=canny(blur_image,low_threshold,high_threshold) #gets image with edges in image\n",
    "plt.imshow(edges,cmap='gray') "
   ]
  },
  {
   "cell_type": "markdown",
   "metadata": {},
   "source": [
    "## Mask the required region"
   ]
  },
  {
   "cell_type": "code",
   "execution_count": null,
   "metadata": {},
   "outputs": [],
   "source": [
    "masked_image=region_of_interest(edges,vertices) #gets image with edges in region of interest\n",
    "plt.imshow(masked_image,cmap='gray') "
   ]
  },
  {
   "cell_type": "markdown",
   "metadata": {},
   "source": [
    "## Draw the lines on the image"
   ]
  },
  {
   "cell_type": "code",
   "execution_count": null,
   "metadata": {},
   "outputs": [],
   "source": [
    "lines = cv2.HoughLinesP(masked_image, rho, theta, threshold, np.array([]), min_line_length, max_line_gap) #gets image with edges having line segments\n",
    "line_image = np.zeros((masked_image.shape[0], masked_image.shape[1], 3), dtype=np.uint8) \n",
    "draw_lines(line_image, lines,vertices)  #extrapolate line\n",
    "plt.imshow(line_image) "
   ]
  },
  {
   "cell_type": "code",
   "execution_count": null,
   "metadata": {},
   "outputs": [],
   "source": [
    "result=weighted_img(line_image, image, α=0.8, β=1., γ=0.)  #add color to the line in the image\n",
    "plt.imshow(result) "
   ]
  },
  {
   "cell_type": "markdown",
   "metadata": {},
   "source": [
    "## Build a Lane Finding Pipeline\n",
    "\n"
   ]
  },
  {
   "cell_type": "code",
   "execution_count": null,
   "metadata": {},
   "outputs": [],
   "source": [
    "\n",
    "def process_image(image): \n",
    "    y = image.shape[0]\n",
    "    x = image.shape[1]\n",
    "    vertices = np.array([[(0, y), (x*0.4, y*0.6), (x*0.6, y*0.6), (x, y)]], np.int32)\n",
    "    low_threshold=50       #parameters for canny detection \n",
    "    high_threshold=150     #parameters for canny detection\n",
    "    kernel_size=7         #kernel size for Gaussian smoothing / blurring\n",
    "    rho = 1 # distance resolution in pixels  from origin in hough space\n",
    "    theta = np.pi/180 # angular resolution in radians of the Hough space wrt origin\n",
    "    threshold = 40     # minimum number of votes \n",
    "    min_line_length = 100 #minimum number of pixels to make a line\n",
    "    max_line_gap = 300   # maximum gap in pixels between lines that can be connected \n",
    "    gray_image=grayscale(image)   #conversion to grayscale image\n",
    "    blur_image=gaussian_blur(gray_image,kernel_size)   # gaussian_blur suppress noise and spurious gradients by averaging \n",
    "    edges=canny(blur_image,low_threshold,high_threshold) #gets image with edges in image\n",
    "    masked_image=region_of_interest(edges,vertices) #gets image with edges in region of interest\n",
    "    lines = cv2.HoughLinesP(masked_image, rho, theta, threshold, np.array([]), min_line_length, max_line_gap) #gets image with edges having line segments\n",
    "    line_image = np.zeros((masked_image.shape[0], masked_image.shape[1], 3), dtype=np.uint8) \n",
    "    draw_lines(line_image, lines,vertices)  #extrapolate line\n",
    "    result=weighted_img(line_image, image, α=0.8, β=1., γ=0.)  #add color to the line in the image\n",
    "    plt.imshow(result) \n",
    "    return result\n",
    "\n"
   ]
  },
  {
   "cell_type": "code",
   "execution_count": null,
   "metadata": {},
   "outputs": [],
   "source": [
    "output_images=[]\n",
    "f, ax = plt.subplots(3,2,figsize=(24, 24))\n",
    "for i in test_images:\n",
    "    image = mpimg.imread('test_images/'+i)\n",
    "    output_images.append(process_image(image))\n",
    "    \n",
    "\n",
    "ax[0,0].imshow(output_images[0])\n",
    "ax[0,1].imshow(output_images[1])\n",
    "ax[1,0].imshow(output_images[2])\n",
    "ax[1,1].imshow(output_images[3])\n",
    "ax[2,0].imshow(output_images[4])\n",
    "ax[2,1].imshow(output_images[5])    "
   ]
  },
  {
   "cell_type": "markdown",
   "metadata": {},
   "source": [
    "## Test on Videos"
   ]
  },
  {
   "cell_type": "code",
   "execution_count": null,
   "metadata": {},
   "outputs": [],
   "source": [
    "# Import everything needed to edit/save/watch video clips\n",
    "from moviepy.editor import VideoFileClip\n",
    "from IPython.display import HTML"
   ]
  },
  {
   "cell_type": "markdown",
   "metadata": {},
   "source": [
    "Let's try the one with the solid white lane on the right first ..."
   ]
  },
  {
   "cell_type": "code",
   "execution_count": null,
   "metadata": {},
   "outputs": [],
   "source": [
    "import os\n",
    "\n",
    "from moviepy.video.VideoClip import VideoClip\n",
    "\n",
    "white_output = 'test_videos_output/solidWhiteRight.mp4'\n",
    "## To speed up the testing process you may want to try your pipeline on a shorter subclip of the video\n",
    "## To do so add .subclip(start_second,end_second) to the end of the line below\n",
    "## Where start_second and end_second are integer values representing the start and end of the subclip\n",
    "## You may also uncomment the following line for a subclip of the first 5 seconds\n",
    "#clip1 = VideoFileClip(\"test_videos/solidWhiteRight.mp4\").subclip(0,5)\n",
    "clip1 = VideoFileClip(\"test_videos/solidWhiteRight.mp4\")\n",
    "white_clip = clip1.fl_image(process_image) #NOTE: this function expects color images!!\n",
    "%time white_clip.write_videofile(white_output, audio=False)"
   ]
  },
  {
   "cell_type": "markdown",
   "metadata": {},
   "source": [
    "Play the video inline, or if you prefer find the video in your filesystem (should be in the same directory) and play it in your video player of choice."
   ]
  },
  {
   "cell_type": "code",
   "execution_count": null,
   "metadata": {
    "scrolled": true
   },
   "outputs": [],
   "source": [
    "HTML(\"\"\"\n",
    "<video width=\"960\" height=\"540\" controls>\n",
    "  <source src=\"{0}\">\n",
    "</video>\n",
    "\"\"\".format(white_output))"
   ]
  },
  {
   "cell_type": "markdown",
   "metadata": {},
   "source": [
    "Now for the one with the solid yellow lane on the left. This one's more tricky!"
   ]
  },
  {
   "cell_type": "code",
   "execution_count": null,
   "metadata": {},
   "outputs": [],
   "source": [
    "yellow_output = 'test_videos_output/solidYellowLeft.mp4'\n",
    "## To speed up the testing process you may want to try your pipeline on a shorter subclip of the video\n",
    "## To do so add .subclip(start_second,end_second) to the end of the line below\n",
    "## Where start_second and end_second are integer values representing the start and end of the subclip\n",
    "## You may also uncomment the following line for a subclip of the first 5 seconds\n",
    "##clip2 = VideoFileClip('test_videos/solidYellowLeft.mp4').subclip(0,5)\n",
    "clip2 = VideoFileClip('test_videos/solidYellowLeft.mp4')\n",
    "yellow_clip = clip2.fl_image(process_image)\n",
    "%time yellow_clip.write_videofile(yellow_output, audio=False)"
   ]
  },
  {
   "cell_type": "code",
   "execution_count": null,
   "metadata": {},
   "outputs": [
    {
     "data": {
      "text/html": [
       "\n",
       "<video width=\"960\" height=\"540\" controls>\n",
       "  <source src=\"test_videos_output/solidYellowLeft.mp4\">\n",
       "</video>\n"
      ],
      "text/plain": [
       "<IPython.core.display.HTML object>"
      ]
     },
     "execution_count": 19,
     "metadata": {},
     "output_type": "execute_result"
    }
   ],
   "source": [
    "HTML(\"\"\"\n",
    "<video width=\"960\" height=\"540\" controls>\n",
    "  <source src=\"{0}\">\n",
    "</video>\n",
    "\"\"\".format(yellow_output))"
   ]
  },
  {
   "cell_type": "markdown",
   "metadata": {},
   "source": [
    "## Potential shortcomings with current pipeline\n",
    "This method can only detect straight roads. This function will not work fine when there are curve roads, turns, roadblocks, U-turns, steep roads (both up and down). It will not work when the intensity of light exceeds the brightness of lanes as canny edge detector will not be able to identify the gradient.\n",
    "\n",
    "## Possible improvement for pipeline\n",
    "Apply better region masking for steep roads: Detecting horizontal line which separates sky and roads so that we can know up to where lines should extend.\n",
    "For curved roads: Apply degree of order more than 1 to detect curved lines\n",
    "For light intensity: Detect colour of lanes using HSL"
   ]
  }
 ],
 "metadata": {
  "anaconda-cloud": {},
  "kernelspec": {
   "display_name": "Python 3",
   "language": "python",
   "name": "python3"
  },
  "language_info": {
   "codemirror_mode": {
    "name": "ipython",
    "version": 3
   },
   "file_extension": ".py",
   "mimetype": "text/x-python",
   "name": "python",
   "nbconvert_exporter": "python",
   "pygments_lexer": "ipython3",
   "version": "3.5.2"
  },
  "widgets": {
   "state": {},
   "version": "1.1.2"
  }
 },
 "nbformat": 4,
 "nbformat_minor": 1
}
